{
 "cells": [
  {
   "cell_type": "markdown",
   "id": "ab07474b",
   "metadata": {},
   "source": [
    "# Project Name : Car Rental System Per Hour"
   ]
  },
  {
   "cell_type": "markdown",
   "id": "1186a9aa",
   "metadata": {},
   "source": [
    "## Name of Project Members :"
   ]
  },
  {
   "cell_type": "markdown",
   "id": "0ea6e289",
   "metadata": {},
   "source": [
    "##### 1. Ashwini Kantode\n",
    "##### 2. Joy Ray Chaudhuri\n",
    "##### 3. Sanket Hemant Kotwal\n",
    "##### 4. Saniya Nazir Shaikh\n",
    "##### 5. Soumya Ranjan sahoo"
   ]
  },
  {
   "cell_type": "code",
   "execution_count": null,
   "id": "2e20fb05",
   "metadata": {},
   "outputs": [
    {
     "name": "stdout",
     "output_type": "stream",
     "text": [
      "\n",
      "                  ______________________\n",
      "                 |_________Menu_________|\n",
      "                 |   1. Display Stocks  |\n",
      "                 |   2. Rent a Car      |\n",
      "                 |   3. Exit            |\n",
      "                 |______________________|\n",
      "                 \n",
      "Enter Your Choice : 1\n",
      "Total Cars :  100\n",
      "\n",
      "                  ______________________\n",
      "                 |_________Menu_________|\n",
      "                 |   1. Display Stocks  |\n",
      "                 |   2. Rent a Car      |\n",
      "                 |   3. Exit            |\n",
      "                 |______________________|\n",
      "                 \n",
      "Enter Your Choice : 2\n",
      "Enter the Quantity : 2\n",
      "Rent per Hour is Rs. 200/-\n",
      "For How many Hour : 4\n",
      "Total Price :  1600\n",
      "Total Cars 98\n",
      " 🚗Have a Great & Safe Journey!!🚗 \n"
     ]
    }
   ],
   "source": [
    "class carShop:\n",
    "    def __init__(self,stock):\n",
    "        self.stock=stock\n",
    "    def displayCar(self):\n",
    "        print(\"Total Cars : \",self.stock)\n",
    "    def rentForCar(self,q):\n",
    "        if q<=0:\n",
    "            print(\"Please Enter a Positive Value Or Greater Than Zero!!\")\n",
    "        elif q>self.stock:\n",
    "            print(\"Enter a Value Less Than Stock!!\")\n",
    "        else:\n",
    "            self.stock=self.stock-q\n",
    "            r=200\n",
    "            print(\"Rent per Hour is Rs. 200/-\")\n",
    "            t=int(input(\"For How many Hour : \"))\n",
    "            print(\"Total Price : \",q*r*t)\n",
    "            print(\"Total Cars\",self.stock)\n",
    "            print(\" 🚗Have a Great & Safe Journey!!🚗 \")\n",
    "while True:\n",
    "    obj=carShop(100)\n",
    "    user_choice=int(input('''\n",
    "                  ______________________\n",
    "                 |_________Menu_________|\n",
    "                 |   1. Display Stocks  |\n",
    "                 |   2. Rent a Car      |\n",
    "                 |   3. Exit            |\n",
    "                 |______________________|\n",
    "                 \n",
    "Enter Your Choice : '''))\n",
    "    if user_choice==1:\n",
    "        obj.displayCar()\n",
    "    elif user_choice==2:\n",
    "        n=int(input(\"Enter the Quantity : \"))\n",
    "        obj.rentForCar(n)\n",
    "    elif user_choice!=3:\n",
    "        print(\"    😔 Please Enter Proper Choice!! 😔   \")\n",
    "    else:\n",
    "        print(\"      ...... 😊 Thank You for Checking Our Service 😊 ......       \")\n",
    "        break"
   ]
  }
 ],
 "metadata": {
  "kernelspec": {
   "display_name": "Python 3 (ipykernel)",
   "language": "python",
   "name": "python3"
  },
  "language_info": {
   "codemirror_mode": {
    "name": "ipython",
    "version": 3
   },
   "file_extension": ".py",
   "mimetype": "text/x-python",
   "name": "python",
   "nbconvert_exporter": "python",
   "pygments_lexer": "ipython3",
   "version": "3.9.12"
  }
 },
 "nbformat": 4,
 "nbformat_minor": 5
}
