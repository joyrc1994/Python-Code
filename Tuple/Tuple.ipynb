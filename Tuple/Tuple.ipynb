{
 "cells": [
  {
   "cell_type": "markdown",
   "id": "e62df13a",
   "metadata": {},
   "source": [
    "### 1. Write a program to create a tuple"
   ]
  },
  {
   "cell_type": "code",
   "execution_count": 1,
   "id": "521ccc0b",
   "metadata": {},
   "outputs": [
    {
     "name": "stdout",
     "output_type": "stream",
     "text": [
      "(5, 9, 6, 'Joy', 'rc')\n",
      "<class 'tuple'>\n"
     ]
    }
   ],
   "source": [
    "t=(5,9,6,'Joy','rc')\n",
    "print(t)\n",
    "print(type(t))"
   ]
  },
  {
   "cell_type": "markdown",
   "id": "68199cbb",
   "metadata": {},
   "source": [
    "### 2. Write a program to create a tuple with different data types"
   ]
  },
  {
   "cell_type": "code",
   "execution_count": 3,
   "id": "6eb12cfd",
   "metadata": {},
   "outputs": [
    {
     "name": "stdout",
     "output_type": "stream",
     "text": [
      "(7, 2.5, 'Joy', 'rc', (2+3j))\n"
     ]
    },
    {
     "data": {
      "text/plain": [
       "tuple"
      ]
     },
     "execution_count": 3,
     "metadata": {},
     "output_type": "execute_result"
    }
   ],
   "source": [
    "t=(7,2.5,'Joy','rc',2+3j)\n",
    "print(t)\n",
    "type(t)"
   ]
  },
  {
   "cell_type": "markdown",
   "id": "320461e1",
   "metadata": {},
   "source": [
    "### 3. Write a program to create a tuple with numbers and print one item"
   ]
  },
  {
   "cell_type": "code",
   "execution_count": 4,
   "id": "af8ff19f",
   "metadata": {},
   "outputs": [
    {
     "name": "stdout",
     "output_type": "stream",
     "text": [
      "(6, 88, 40, 25, 96)\n",
      "88\n"
     ]
    }
   ],
   "source": [
    "t=(6,88,40,25,96)\n",
    "print(t)\n",
    "print(t[1])"
   ]
  },
  {
   "cell_type": "markdown",
   "id": "2a64bbeb",
   "metadata": {},
   "source": [
    "### 4. Write a program to add an item in the tuple"
   ]
  },
  {
   "cell_type": "code",
   "execution_count": 7,
   "id": "a3dfadc3",
   "metadata": {},
   "outputs": [
    {
     "name": "stdout",
     "output_type": "stream",
     "text": [
      "(65, 75, 86, 55, 99, 75)\n"
     ]
    }
   ],
   "source": [
    "t = (65,75,86,55,99)\n",
    "t1 = t + (75,)\n",
    "print(t1)"
   ]
  },
  {
   "cell_type": "markdown",
   "id": "0b4cd45e",
   "metadata": {},
   "source": [
    "### 5. Write a program to convert tuple to a string"
   ]
  },
  {
   "cell_type": "code",
   "execution_count": 10,
   "id": "9c97a9a7",
   "metadata": {},
   "outputs": [
    {
     "name": "stdout",
     "output_type": "stream",
     "text": [
      "(65, 75, 86, 55, 99)\n",
      "<class 'str'>\n"
     ]
    }
   ],
   "source": [
    "t = (65,75,86,55,99)\n",
    "s=str(t)\n",
    "print(s)\n",
    "print(type(s))"
   ]
  },
  {
   "cell_type": "markdown",
   "id": "83f513a3",
   "metadata": {},
   "source": [
    "### 6. Write a program to get the 4th element and the 4th element from the last of a tuple"
   ]
  },
  {
   "cell_type": "code",
   "execution_count": 16,
   "id": "2f0e92ee",
   "metadata": {},
   "outputs": [
    {
     "name": "stdout",
     "output_type": "stream",
     "text": [
      "(5, 4, 6, 'Joy', 'RC')\n",
      "4th Element of the Tuple is : Joy\n",
      "Last Element of the Tuple is : 4\n"
     ]
    }
   ],
   "source": [
    "t=(5,4,6,'Joy','RC')\n",
    "print(t)\n",
    "print(\"4th Element of the Tuple is :\",t[3])\n",
    "print(\"Last Element of the Tuple is :\",t[-4])"
   ]
  }
 ],
 "metadata": {
  "kernelspec": {
   "display_name": "Python 3 (ipykernel)",
   "language": "python",
   "name": "python3"
  },
  "language_info": {
   "codemirror_mode": {
    "name": "ipython",
    "version": 3
   },
   "file_extension": ".py",
   "mimetype": "text/x-python",
   "name": "python",
   "nbconvert_exporter": "python",
   "pygments_lexer": "ipython3",
   "version": "3.9.12"
  }
 },
 "nbformat": 4,
 "nbformat_minor": 5
}
