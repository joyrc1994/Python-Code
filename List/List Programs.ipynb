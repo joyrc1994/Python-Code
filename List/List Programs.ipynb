{
 "cells": [
  {
   "cell_type": "markdown",
   "id": "606672a0",
   "metadata": {},
   "source": [
    "### 1. Program to sum all the items in a list"
   ]
  },
  {
   "cell_type": "code",
   "execution_count": 14,
   "id": "98b52645",
   "metadata": {},
   "outputs": [
    {
     "name": "stdout",
     "output_type": "stream",
     "text": [
      "[12, 15, 18, 21, 24]\n",
      "90\n"
     ]
    }
   ],
   "source": [
    "x=[12,15,18,21,24]\n",
    "print(x)\n",
    "print(sum(x))"
   ]
  },
  {
   "cell_type": "code",
   "execution_count": 12,
   "id": "aa48035d",
   "metadata": {},
   "outputs": [
    {
     "name": "stdout",
     "output_type": "stream",
     "text": [
      "Addition of all items =  12\n"
     ]
    }
   ],
   "source": [
    "a=[2,4,6]\n",
    "i=0\n",
    "s=0\n",
    "while i<len(a):\n",
    "    s+= a[i]\n",
    "    i+=1\n",
    "print('Addition of all items = ',s)"
   ]
  },
  {
   "cell_type": "markdown",
   "id": "9331821d",
   "metadata": {},
   "source": [
    "### 2. Program to multiply all the items in a list"
   ]
  },
  {
   "cell_type": "code",
   "execution_count": 9,
   "id": "456316c8",
   "metadata": {},
   "outputs": [
    {
     "name": "stdout",
     "output_type": "stream",
     "text": [
      "Multiplication of all items =  60\n"
     ]
    }
   ],
   "source": [
    "a=[2,5,6]\n",
    "i=0\n",
    "mul=1\n",
    "while i<len(a):\n",
    "    mul*= a[i]\n",
    "    i+=1\n",
    "print('Multiplication of all items = ',mul)"
   ]
  },
  {
   "cell_type": "markdown",
   "id": "d5073486",
   "metadata": {},
   "source": [
    "### 3. Program to Print the largest number in the list"
   ]
  },
  {
   "cell_type": "code",
   "execution_count": 7,
   "id": "8f141a99",
   "metadata": {},
   "outputs": [
    {
     "name": "stdout",
     "output_type": "stream",
     "text": [
      "Largest number is : 45\n"
     ]
    }
   ],
   "source": [
    "l=[10, 20, 4, 45, 21]\n",
    "print(\"Largest number is :\", max(l))"
   ]
  },
  {
   "cell_type": "markdown",
   "id": "117475e1",
   "metadata": {},
   "source": [
    "### 4. Program to print the smallest number in the list"
   ]
  },
  {
   "cell_type": "code",
   "execution_count": 8,
   "id": "92f44c2f",
   "metadata": {},
   "outputs": [
    {
     "name": "stdout",
     "output_type": "stream",
     "text": [
      "Largest number is : 4\n"
     ]
    }
   ],
   "source": [
    "l=[10, 20, 4, 45, 21]\n",
    "print(\"Largest number is :\", min(l))"
   ]
  },
  {
   "cell_type": "markdown",
   "id": "a33bcfbc",
   "metadata": {},
   "source": [
    "### 5. Program to count number of strings in a list"
   ]
  },
  {
   "cell_type": "code",
   "execution_count": 5,
   "id": "50596caa",
   "metadata": {},
   "outputs": [
    {
     "name": "stdout",
     "output_type": "stream",
     "text": [
      "['Joy', 'Ray', 'Chaudhuri', 'Joy']\n"
     ]
    },
    {
     "data": {
      "text/plain": [
       "4"
      ]
     },
     "execution_count": 5,
     "metadata": {},
     "output_type": "execute_result"
    }
   ],
   "source": [
    "l2=[\"Joy\",\"Ray\",\"Chaudhuri\",\"Joy\"]\n",
    "print(l2)\n",
    "len(l2)"
   ]
  },
  {
   "cell_type": "code",
   "execution_count": 6,
   "id": "9643ec7e",
   "metadata": {},
   "outputs": [
    {
     "name": "stdout",
     "output_type": "stream",
     "text": [
      "number of strings in list = 4\n"
     ]
    }
   ],
   "source": [
    "lst = [\"Joy\",\"Ray\",\"Chaudhuri\",\"Joy\"]\n",
    "count = 0\n",
    "i = 0\n",
    "for i in range(len(lst)):\n",
    "    count += 1\n",
    "print('number of strings in list =', count)"
   ]
  },
  {
   "cell_type": "markdown",
   "id": "905fa715",
   "metadata": {},
   "source": [
    "### 6. Program to remove all the duplicate items from a list"
   ]
  },
  {
   "cell_type": "code",
   "execution_count": 2,
   "id": "dc5f4ede",
   "metadata": {},
   "outputs": [
    {
     "name": "stdout",
     "output_type": "stream",
     "text": [
      "[1, 2, 3, 4, 5, 6]\n"
     ]
    }
   ],
   "source": [
    "my_list = [1,1,2,3,2,2,4,5,6,2,1]\n",
    "myfinal_list = set(my_list)\n",
    "print(list(myfinal_list))"
   ]
  },
  {
   "cell_type": "markdown",
   "id": "aec4cf94",
   "metadata": {},
   "source": [
    "### 7. Program to check whether list is empty or not"
   ]
  },
  {
   "cell_type": "code",
   "execution_count": 2,
   "id": "52dafda0",
   "metadata": {},
   "outputs": [
    {
     "name": "stdout",
     "output_type": "stream",
     "text": [
      "The list is not empty\n"
     ]
    }
   ],
   "source": [
    "l4=[2,\"joy\"]\n",
    "len(l4)\n",
    "if len(l4)==0 :\n",
    "    print(\"The list is empty\")\n",
    "else :\n",
    "    print(\"The list is not empty\")\n"
   ]
  }
 ],
 "metadata": {
  "kernelspec": {
   "display_name": "Python 3 (ipykernel)",
   "language": "python",
   "name": "python3"
  },
  "language_info": {
   "codemirror_mode": {
    "name": "ipython",
    "version": 3
   },
   "file_extension": ".py",
   "mimetype": "text/x-python",
   "name": "python",
   "nbconvert_exporter": "python",
   "pygments_lexer": "ipython3",
   "version": "3.9.12"
  }
 },
 "nbformat": 4,
 "nbformat_minor": 5
}
