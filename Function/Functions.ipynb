{
 "cells": [
  {
   "cell_type": "markdown",
   "id": "34da51c7",
   "metadata": {},
   "source": [
    "### 1. Max of 3 Numbers using Function"
   ]
  },
  {
   "cell_type": "code",
   "execution_count": 7,
   "id": "c7b5bfe9",
   "metadata": {},
   "outputs": [
    {
     "name": "stdout",
     "output_type": "stream",
     "text": [
      "Maximum is : 30\n"
     ]
    }
   ],
   "source": [
    "def maximum():\n",
    "    l=[10, 20, 30]\n",
    "    print(\"Maximum is :\", max(l))\n",
    "maximum()"
   ]
  },
  {
   "cell_type": "markdown",
   "id": "7cc31286",
   "metadata": {},
   "source": [
    "### 2. Sum of all numbers in a list using Functions"
   ]
  },
  {
   "cell_type": "code",
   "execution_count": 2,
   "id": "3981c746",
   "metadata": {},
   "outputs": [
    {
     "name": "stdout",
     "output_type": "stream",
     "text": [
      "[12, 15, 18, 21, 24]\n",
      "90\n"
     ]
    }
   ],
   "source": [
    "def plus():\n",
    "    x=[12,15,18,21,24]\n",
    "    print(x)\n",
    "    print(sum(x))\n",
    "plus()"
   ]
  },
  {
   "cell_type": "markdown",
   "id": "edeb54c2",
   "metadata": {},
   "source": [
    "### 3. Multiplication of all numbers in a list using Function"
   ]
  },
  {
   "cell_type": "code",
   "execution_count": 3,
   "id": "45833024",
   "metadata": {},
   "outputs": [
    {
     "name": "stdout",
     "output_type": "stream",
     "text": [
      "Multiplication of all items =  60\n"
     ]
    }
   ],
   "source": [
    "def multi():\n",
    "    a=[2,5,6]\n",
    "    i=0\n",
    "    mul=1\n",
    "    while i<len(a):\n",
    "        mul*= a[i]\n",
    "        i+=1\n",
    "    print('Multiplication of all items = ',mul)\n",
    "multi()"
   ]
  },
  {
   "cell_type": "markdown",
   "id": "2c9819bd",
   "metadata": {},
   "source": [
    "### 4. Reverse a string using Function"
   ]
  },
  {
   "cell_type": "code",
   "execution_count": 5,
   "id": "1d18fa5a",
   "metadata": {},
   "outputs": [
    {
     "name": "stdout",
     "output_type": "stream",
     "text": [
      "gnirtS a esreveR\n"
     ]
    }
   ],
   "source": [
    "def string():\n",
    "    text = \"Reverse a String\"[::-1]\n",
    "    print(text)\n",
    "string()"
   ]
  },
  {
   "cell_type": "markdown",
   "id": "cbd907e7",
   "metadata": {},
   "source": [
    "### 5. Factorial of a number using Function"
   ]
  },
  {
   "cell_type": "code",
   "execution_count": 4,
   "id": "c7572018",
   "metadata": {},
   "outputs": [
    {
     "name": "stdout",
     "output_type": "stream",
     "text": [
      "enter a number: 5\n",
      "factorial of  5  is  120\n"
     ]
    }
   ],
   "source": [
    "def fact():\n",
    "    num = int(input(\"enter a number: \"))\n",
    "    fac = 1\n",
    "    i = 1\n",
    "    while i <= num:\n",
    "        fac = fac * i\n",
    "        i = i + 1\n",
    "    print(\"factorial of \", num, \" is \", fac)\n",
    "fact()"
   ]
  },
  {
   "cell_type": "markdown",
   "id": "b1d82970",
   "metadata": {},
   "source": [
    "### 6. Upper & Lower case using Function"
   ]
  },
  {
   "cell_type": "code",
   "execution_count": 8,
   "id": "040c0d07",
   "metadata": {},
   "outputs": [
    {
     "name": "stdout",
     "output_type": "stream",
     "text": [
      "Write a String : Joy Ray Chaudhuri\n",
      "The number of UPPERCASE characters is: 3\n",
      "The number of lowercase characters is: 14\n"
     ]
    }
   ],
   "source": [
    "def letters():\n",
    "    x=input(\"Write a String : \")\n",
    "    lower=0\n",
    "    upper=0\n",
    "    for i in x:\n",
    "        if(i.isupper()):\n",
    "            upper+=1\n",
    "        else:\n",
    "            lower+=1\n",
    "    print(\"The number of UPPERCASE characters is:\",upper)\n",
    "    print(\"The number of lowercase characters is:\",lower)\n",
    "letters()"
   ]
  },
  {
   "cell_type": "markdown",
   "id": "709bba18",
   "metadata": {},
   "source": [
    "### 7"
   ]
  },
  {
   "cell_type": "code",
   "execution_count": null,
   "id": "68c5489a",
   "metadata": {},
   "outputs": [],
   "source": []
  },
  {
   "cell_type": "code",
   "execution_count": null,
   "id": "630dc42b",
   "metadata": {},
   "outputs": [],
   "source": []
  },
  {
   "cell_type": "code",
   "execution_count": null,
   "id": "9cc8611c",
   "metadata": {},
   "outputs": [],
   "source": []
  },
  {
   "cell_type": "code",
   "execution_count": null,
   "id": "70c249ad",
   "metadata": {},
   "outputs": [],
   "source": []
  }
 ],
 "metadata": {
  "kernelspec": {
   "display_name": "Python 3 (ipykernel)",
   "language": "python",
   "name": "python3"
  },
  "language_info": {
   "codemirror_mode": {
    "name": "ipython",
    "version": 3
   },
   "file_extension": ".py",
   "mimetype": "text/x-python",
   "name": "python",
   "nbconvert_exporter": "python",
   "pygments_lexer": "ipython3",
   "version": "3.9.12"
  }
 },
 "nbformat": 4,
 "nbformat_minor": 5
}
