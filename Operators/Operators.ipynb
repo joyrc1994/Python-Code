{
 "cells": [
  {
   "cell_type": "markdown",
   "id": "cecddc81",
   "metadata": {},
   "source": [
    "### Membership"
   ]
  },
  {
   "cell_type": "code",
   "execution_count": 3,
   "id": "5b3a71a8",
   "metadata": {},
   "outputs": [
    {
     "name": "stdout",
     "output_type": "stream",
     "text": [
      "True\n"
     ]
    }
   ],
   "source": [
    "x=\"Hi I'm Joy\"\n",
    "print('Joy' in x)"
   ]
  },
  {
   "cell_type": "code",
   "execution_count": 4,
   "id": "94c29a35",
   "metadata": {},
   "outputs": [
    {
     "name": "stdout",
     "output_type": "stream",
     "text": [
      "False\n"
     ]
    }
   ],
   "source": [
    "x=\"Hi I'm Joy\"\n",
    "print('RC' in x)"
   ]
  },
  {
   "cell_type": "code",
   "execution_count": 5,
   "id": "ccc4b123",
   "metadata": {},
   "outputs": [
    {
     "name": "stdout",
     "output_type": "stream",
     "text": [
      "True\n"
     ]
    }
   ],
   "source": [
    "x=\"Hi I'm Joy\"\n",
    "print('is' not in x)"
   ]
  },
  {
   "cell_type": "code",
   "execution_count": 6,
   "id": "e4635ae3",
   "metadata": {},
   "outputs": [
    {
     "name": "stdout",
     "output_type": "stream",
     "text": [
      "False\n"
     ]
    }
   ],
   "source": [
    "x=\"Hi I'm Joy\"\n",
    "print('Hi' not in x)"
   ]
  },
  {
   "cell_type": "markdown",
   "id": "e112a422",
   "metadata": {},
   "source": [
    "### Bitwaise Operators"
   ]
  },
  {
   "cell_type": "markdown",
   "id": "e4ca2e9e",
   "metadata": {},
   "source": [
    "#### AND"
   ]
  },
  {
   "cell_type": "code",
   "execution_count": 9,
   "id": "ad8afad3",
   "metadata": {},
   "outputs": [
    {
     "name": "stdout",
     "output_type": "stream",
     "text": [
      "bitwise AND 4\n"
     ]
    }
   ],
   "source": [
    "### Bitwise AND - returns 1 if both the bits are 1 else 0\n",
    "x = 6 # binary form 0110\n",
    "y = 4 # binary form 0100\n",
    "print('bitwise AND', x&y)"
   ]
  },
  {
   "cell_type": "markdown",
   "id": "c4556445",
   "metadata": {},
   "source": [
    "#### OR"
   ]
  },
  {
   "cell_type": "code",
   "execution_count": 10,
   "id": "97422f3d",
   "metadata": {},
   "outputs": [
    {
     "name": "stdout",
     "output_type": "stream",
     "text": [
      "bitwise OR 6\n"
     ]
    }
   ],
   "source": [
    "# bitwise OR - returns 1 if either of the bits is 1 else 0\n",
    "x = 6 # binary form 0110\n",
    "y = 4 # binary form 0100\n",
    "print('bitwise OR', x|y)"
   ]
  },
  {
   "cell_type": "markdown",
   "id": "722ea1ff",
   "metadata": {},
   "source": [
    "#### NOT"
   ]
  },
  {
   "cell_type": "code",
   "execution_count": 12,
   "id": "60f78c66",
   "metadata": {},
   "outputs": [
    {
     "name": "stdout",
     "output_type": "stream",
     "text": [
      "bitwise NOT -3\n"
     ]
    }
   ],
   "source": [
    "# bitwise NOT - returns one's complement of the number\n",
    "x = 2 # binary form 0010\n",
    "print('bitwise NOT',~x)"
   ]
  },
  {
   "cell_type": "markdown",
   "id": "ccf38e19",
   "metadata": {},
   "source": [
    "#### XOR"
   ]
  },
  {
   "cell_type": "code",
   "execution_count": 13,
   "id": "62539b6b",
   "metadata": {},
   "outputs": [
    {
     "name": "stdout",
     "output_type": "stream",
     "text": [
      "bitwise XOR 20\n"
     ]
    }
   ],
   "source": [
    "# bitwise XOR - returns 1 if one of the bits is 1 and other is 0 else returns false\n",
    "x = 18 # binary form 10010\n",
    "y = 6  # binary form 01100\n",
    "print('bitwise XOR',x^y)"
   ]
  },
  {
   "cell_type": "code",
   "execution_count": 14,
   "id": "efd09885",
   "metadata": {},
   "outputs": [
    {
     "name": "stdout",
     "output_type": "stream",
     "text": [
      "bitwise right shift 3\n",
      "bitwise left shift 12\n"
     ]
    }
   ],
   "source": [
    "x = 6 # binary form 00110\n",
    "print('bitwise right shift',x>>1) #0011\n",
    "print('bitwise left shift',x<<1)"
   ]
  },
  {
   "cell_type": "code",
   "execution_count": 15,
   "id": "ea404445",
   "metadata": {},
   "outputs": [
    {
     "name": "stdout",
     "output_type": "stream",
     "text": [
      "1570736764912\n",
      "<class 'float'>\n",
      "24\n",
      "23.17 is float? True\n"
     ]
    }
   ],
   "source": [
    "import sys\n",
    "v=23.17\n",
    "print(id(v))                                    #unique address\n",
    "print(type(v))                                  #data type of variable\n",
    "print(sys.getsizeof(v))                         #size of object in bytes\n",
    "print(v, \"is float?\", isinstance(v,float))      #isinstance checks data type"
   ]
  },
  {
   "cell_type": "code",
   "execution_count": null,
   "id": "ec8cb076",
   "metadata": {},
   "outputs": [],
   "source": []
  }
 ],
 "metadata": {
  "kernelspec": {
   "display_name": "Python 3 (ipykernel)",
   "language": "python",
   "name": "python3"
  },
  "language_info": {
   "codemirror_mode": {
    "name": "ipython",
    "version": 3
   },
   "file_extension": ".py",
   "mimetype": "text/x-python",
   "name": "python",
   "nbconvert_exporter": "python",
   "pygments_lexer": "ipython3",
   "version": "3.9.12"
  }
 },
 "nbformat": 4,
 "nbformat_minor": 5
}
