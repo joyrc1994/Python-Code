{
 "cells": [
  {
   "cell_type": "markdown",
   "id": "85e1ff8e",
   "metadata": {},
   "source": [
    "### Intro"
   ]
  },
  {
   "cell_type": "code",
   "execution_count": 21,
   "id": "a12fa616",
   "metadata": {},
   "outputs": [
    {
     "name": "stdout",
     "output_type": "stream",
     "text": [
      "Hi Joy, Welcome to Python.\n"
     ]
    }
   ],
   "source": [
    "print('Hi Joy, Welcome to Python.')"
   ]
  },
  {
   "cell_type": "markdown",
   "id": "d9715593",
   "metadata": {},
   "source": [
    "### Addition"
   ]
  },
  {
   "cell_type": "code",
   "execution_count": 14,
   "id": "861a0567",
   "metadata": {},
   "outputs": [
    {
     "name": "stdout",
     "output_type": "stream",
     "text": [
      "Enter 1st number = 5\n",
      "Enter 2nd number = 5\n",
      "Result is = 10\n"
     ]
    }
   ],
   "source": [
    "x= int(input('Enter 1st number = '))\n",
    "y= int(input('Enter 2nd number = '))\n",
    "z = x+y\n",
    "print('Result is =',z)"
   ]
  },
  {
   "cell_type": "markdown",
   "id": "791cc726",
   "metadata": {},
   "source": [
    "### Subtraction"
   ]
  },
  {
   "cell_type": "code",
   "execution_count": 15,
   "id": "df95e1b6",
   "metadata": {},
   "outputs": [
    {
     "name": "stdout",
     "output_type": "stream",
     "text": [
      "Enter 1st number = 8\n",
      "Enter 2nd number = 4\n",
      "Result is = 4\n"
     ]
    }
   ],
   "source": [
    "x= int(input('Enter 1st number = '))\n",
    "y= int(input('Enter 2nd number = '))\n",
    "z = x-y\n",
    "print('Result is =',z)"
   ]
  },
  {
   "cell_type": "markdown",
   "id": "0db05f79",
   "metadata": {},
   "source": [
    "### Multiplication"
   ]
  },
  {
   "cell_type": "code",
   "execution_count": 16,
   "id": "74e7dda6",
   "metadata": {},
   "outputs": [
    {
     "name": "stdout",
     "output_type": "stream",
     "text": [
      "Enter 1st number = 6\n",
      "Enter 2nd number = 4\n",
      "Result is = 24\n"
     ]
    }
   ],
   "source": [
    "x= int(input('Enter 1st number = '))\n",
    "y= int(input('Enter 2nd number = '))\n",
    "z = x*y\n",
    "print('Result is =',z)"
   ]
  },
  {
   "cell_type": "markdown",
   "id": "2d20b63c",
   "metadata": {},
   "source": [
    "### Division"
   ]
  },
  {
   "cell_type": "code",
   "execution_count": 17,
   "id": "40aacf04",
   "metadata": {},
   "outputs": [
    {
     "name": "stdout",
     "output_type": "stream",
     "text": [
      "Enter 1st number = 10\n",
      "Enter 2nd number = 2\n",
      "Result is = 5.0\n"
     ]
    }
   ],
   "source": [
    "x= int(input('Enter 1st number = '))\n",
    "y= int(input('Enter 2nd number = '))\n",
    "z = x/y\n",
    "print('Result is =',z)"
   ]
  },
  {
   "cell_type": "markdown",
   "id": "e0d65518",
   "metadata": {},
   "source": [
    "### Modulus"
   ]
  },
  {
   "cell_type": "code",
   "execution_count": 18,
   "id": "fc0b9967",
   "metadata": {},
   "outputs": [
    {
     "name": "stdout",
     "output_type": "stream",
     "text": [
      "Enter 1st number = 7\n",
      "Enter 2nd number = 5\n",
      "Result is = 2\n"
     ]
    }
   ],
   "source": [
    "x= int(input('Enter 1st number = '))\n",
    "y= int(input('Enter 2nd number = '))\n",
    "z = x%y\n",
    "print('Result is =',z)"
   ]
  },
  {
   "cell_type": "markdown",
   "id": "bff71dcf",
   "metadata": {},
   "source": [
    "### Exponent"
   ]
  },
  {
   "cell_type": "code",
   "execution_count": 19,
   "id": "5dca8f93",
   "metadata": {},
   "outputs": [
    {
     "name": "stdout",
     "output_type": "stream",
     "text": [
      "Enter 1st number = 4\n",
      "Enter 2nd number = 2\n",
      "Result is = 16\n"
     ]
    }
   ],
   "source": [
    "x= int(input('Enter 1st number = '))\n",
    "y= int(input('Enter 2nd number = '))\n",
    "z = x**y\n",
    "print('Result is =',z)"
   ]
  }
 ],
 "metadata": {
  "kernelspec": {
   "display_name": "Python 3 (ipykernel)",
   "language": "python",
   "name": "python3"
  },
  "language_info": {
   "codemirror_mode": {
    "name": "ipython",
    "version": 3
   },
   "file_extension": ".py",
   "mimetype": "text/x-python",
   "name": "python",
   "nbconvert_exporter": "python",
   "pygments_lexer": "ipython3",
   "version": "3.9.12"
  }
 },
 "nbformat": 4,
 "nbformat_minor": 5
}
