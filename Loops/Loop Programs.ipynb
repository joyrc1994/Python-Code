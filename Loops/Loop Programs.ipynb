{
 "cells": [
  {
   "cell_type": "markdown",
   "id": "2f45de59",
   "metadata": {},
   "source": [
    "### 1) Print python 10 times"
   ]
  },
  {
   "cell_type": "code",
   "execution_count": 1,
   "id": "3b519e0b",
   "metadata": {},
   "outputs": [
    {
     "name": "stdout",
     "output_type": "stream",
     "text": [
      "Python\n",
      "Python\n",
      "Python\n",
      "Python\n",
      "Python\n",
      "Python\n",
      "Python\n",
      "Python\n",
      "Python\n",
      "Python\n"
     ]
    }
   ],
   "source": [
    "i=1\n",
    "while i<=10:\n",
    "    print(\"Python\")\n",
    "    i=i+1"
   ]
  },
  {
   "cell_type": "markdown",
   "id": "5315c65d",
   "metadata": {},
   "source": [
    "### 2) Print 1-10"
   ]
  },
  {
   "cell_type": "code",
   "execution_count": 2,
   "id": "f1860c9b",
   "metadata": {},
   "outputs": [
    {
     "name": "stdout",
     "output_type": "stream",
     "text": [
      "1\n",
      "2\n",
      "3\n",
      "4\n",
      "5\n",
      "6\n",
      "7\n",
      "8\n",
      "9\n",
      "10\n"
     ]
    }
   ],
   "source": [
    "i=1\n",
    "while i<=10:\n",
    "    print(i)\n",
    "    i=i+1"
   ]
  },
  {
   "cell_type": "markdown",
   "id": "0503d76a",
   "metadata": {},
   "source": [
    "### 3) Print Sum of 1st 10 numbers"
   ]
  },
  {
   "cell_type": "code",
   "execution_count": 3,
   "id": "58fc16a1",
   "metadata": {},
   "outputs": [
    {
     "name": "stdout",
     "output_type": "stream",
     "text": [
      "The sum is 55\n"
     ]
    }
   ],
   "source": [
    "num = 10\n",
    "sum_of_numbers = 0\n",
    "while(num > 0):\n",
    "    sum_of_numbers += num\n",
    "    num -= 1\n",
    "print(\"The sum is\", sum_of_numbers)"
   ]
  },
  {
   "cell_type": "markdown",
   "id": "c2999090",
   "metadata": {},
   "source": [
    "### 4) Print Sum of n Numbers"
   ]
  },
  {
   "cell_type": "code",
   "execution_count": 6,
   "id": "b2b59cea",
   "metadata": {},
   "outputs": [
    {
     "name": "stdout",
     "output_type": "stream",
     "text": [
      "enter the value 20\n",
      "The sum is 210\n"
     ]
    }
   ],
   "source": [
    "num=int(input('enter the value '))\n",
    "sum_of_numbers = 0\n",
    "while num > 0:\n",
    "    sum_of_numbers += num\n",
    "    num -= 1\n",
    "print(\"The sum is\", sum_of_numbers)"
   ]
  },
  {
   "cell_type": "markdown",
   "id": "06c72c9a",
   "metadata": {},
   "source": [
    "### 5) Program to print n numbers entered by user"
   ]
  },
  {
   "cell_type": "code",
   "execution_count": 1,
   "id": "e2772cf9",
   "metadata": {},
   "outputs": [
    {
     "name": "stdout",
     "output_type": "stream",
     "text": [
      "Enter a number = 6\n",
      "1\n",
      "2\n",
      "3\n",
      "4\n",
      "5\n",
      "6\n"
     ]
    }
   ],
   "source": [
    "n=int(input('Enter a number = '))\n",
    "i=1\n",
    "while i<=n:\n",
    "    print(i)\n",
    "    i+=1"
   ]
  },
  {
   "cell_type": "markdown",
   "id": "5f5b7ccb",
   "metadata": {},
   "source": [
    "### 6) Program to print sum of n numbers entered by user"
   ]
  },
  {
   "cell_type": "code",
   "execution_count": 2,
   "id": "032922c2",
   "metadata": {},
   "outputs": [
    {
     "name": "stdout",
     "output_type": "stream",
     "text": [
      "Enter a number = 5\n",
      "1\n",
      "3\n",
      "6\n",
      "10\n",
      "15\n"
     ]
    }
   ],
   "source": [
    "n=int(input('Enter a number = '))\n",
    "i=1\n",
    "sum=0\n",
    "while i<=n:\n",
    "    sum+=i\n",
    "    print(sum)\n",
    "    i+=1"
   ]
  },
  {
   "cell_type": "markdown",
   "id": "6a3ecf2e",
   "metadata": {},
   "source": [
    "### 7) Program to print sum of n numbers entered by user"
   ]
  },
  {
   "cell_type": "code",
   "execution_count": 3,
   "id": "1762c814",
   "metadata": {},
   "outputs": [
    {
     "name": "stdout",
     "output_type": "stream",
     "text": [
      "Enter a number = 5\n",
      "15\n"
     ]
    }
   ],
   "source": [
    "n=int(input('Enter a number = '))\n",
    "i=1\n",
    "sum=0\n",
    "while i<=n:\n",
    "    sum+=i\n",
    "    i+=1\n",
    "print(sum)"
   ]
  },
  {
   "cell_type": "markdown",
   "id": "5f3e9de8",
   "metadata": {},
   "source": [
    "### 8) Table of a Number"
   ]
  },
  {
   "cell_type": "code",
   "execution_count": 7,
   "id": "c58e1122",
   "metadata": {},
   "outputs": [
    {
     "name": "stdout",
     "output_type": "stream",
     "text": [
      "enter table number 6\n",
      "6 x 1 = 6\n",
      "6 x 2 = 12\n",
      "6 x 3 = 18\n",
      "6 x 4 = 24\n",
      "6 x 5 = 30\n",
      "6 x 6 = 36\n",
      "6 x 7 = 42\n",
      "6 x 8 = 48\n",
      "6 x 9 = 54\n",
      "6 x 10 = 60\n"
     ]
    }
   ],
   "source": [
    "a=int(input(\"enter table number \"))\n",
    "#b=int(input(\"enter the number to which table is to printed \"))\n",
    "i=1\n",
    "while i<=10:\n",
    "    print(a,\"x\",i,\"=\",a*i)\n",
    "    i=i+1"
   ]
  },
  {
   "cell_type": "markdown",
   "id": "3283163c",
   "metadata": {},
   "source": [
    "### 9) Factorial of a Number"
   ]
  },
  {
   "cell_type": "code",
   "execution_count": 8,
   "id": "2683dcdc",
   "metadata": {},
   "outputs": [
    {
     "name": "stdout",
     "output_type": "stream",
     "text": [
      "enter a number: 5\n",
      "factorial of  5  is  120\n"
     ]
    }
   ],
   "source": [
    "num = int(input(\"enter a number: \"))\n",
    " \n",
    "fac = 1\n",
    "i = 1\n",
    " \n",
    "while i <= num:\n",
    "    fac = fac * i\n",
    "    i = i + 1\n",
    " \n",
    "print(\"factorial of \", num, \" is \", fac)"
   ]
  },
  {
   "cell_type": "markdown",
   "id": "a8c573e5",
   "metadata": {},
   "source": [
    "### 10) Even Numbers between 1-100"
   ]
  },
  {
   "cell_type": "code",
   "execution_count": 6,
   "id": "107675c3",
   "metadata": {},
   "outputs": [
    {
     "name": "stdout",
     "output_type": "stream",
     "text": [
      "2 , 4 , 6 , 8 , 10 , 12 , 14 , 16 , 18 , 20 , 22 , 24 , 26 , 28 , 30 , 32 , 34 , 36 , 38 , 40 , 42 , 44 , 46 , 48 , 50 , 52 , 54 , 56 , 58 , 60 , 62 , 64 , 66 , 68 , 70 , 72 , 74 , 76 , 78 , 80 , 82 , 84 , 86 , 88 , 90 , 92 , 94 , 96 , 98 , 100 , "
     ]
    }
   ],
   "source": [
    "i = 1\n",
    "while i <= 100:\n",
    "    if i % 2 == 0:\n",
    "        print(i,end=\" , \")\n",
    "    i = i + 1"
   ]
  },
  {
   "cell_type": "markdown",
   "id": "e3af70a0",
   "metadata": {},
   "source": [
    "### 11) Odd Numbers between 1-100"
   ]
  },
  {
   "cell_type": "code",
   "execution_count": 8,
   "id": "47afcb43",
   "metadata": {},
   "outputs": [
    {
     "name": "stdout",
     "output_type": "stream",
     "text": [
      "1 , 3 , 5 , 7 , 9 , 11 , 13 , 15 , 17 , 19 , 21 , 23 , 25 , 27 , 29 , 31 , 33 , 35 , 37 , 39 , 41 , 43 , 45 , 47 , 49 , 51 , 53 , 55 , 57 , 59 , 61 , 63 , 65 , 67 , 69 , 71 , 73 , 75 , 77 , 79 , 81 , 83 , 85 , 87 , 89 , 91 , 93 , 95 , 97 , 99 , "
     ]
    }
   ],
   "source": [
    "i = 1\n",
    "while i <= 100:\n",
    "    if i % 2 != 0:\n",
    "        print(i,end=\" , \")\n",
    "    i = i + 1"
   ]
  },
  {
   "cell_type": "markdown",
   "id": "7aa887c3",
   "metadata": {},
   "source": [
    "### 12) Palindrome or Not"
   ]
  },
  {
   "cell_type": "code",
   "execution_count": 11,
   "id": "837b684f",
   "metadata": {},
   "outputs": [
    {
     "name": "stdout",
     "output_type": "stream",
     "text": [
      "Enter a number:121\n",
      "The number is palindrome!\n"
     ]
    }
   ],
   "source": [
    "num=int(input(\"Enter a number:\"))\n",
    "temp=num\n",
    "rev=0\n",
    "while(num>0):\n",
    "    dig=num%10\n",
    "    rev=rev*10+dig\n",
    "    num=num//10\n",
    "if(temp==rev):\n",
    "    print(\"The number is palindrome!\")\n",
    "else:\n",
    "    print(\"Not a palindrome!\")"
   ]
  },
  {
   "cell_type": "markdown",
   "id": "63ef4969",
   "metadata": {},
   "source": [
    "### 13) Factors of a number"
   ]
  },
  {
   "cell_type": "code",
   "execution_count": 10,
   "id": "2318c084",
   "metadata": {},
   "outputs": [
    {
     "name": "stdout",
     "output_type": "stream",
     "text": [
      "Enter any number = 28\n",
      "1,2,4,7,14,28,"
     ]
    }
   ],
   "source": [
    "n=int(input('Enter any number = '))\n",
    "i=1\n",
    "while i<=n:\n",
    "    if (n % i == 0):\n",
    "        print(i,end=\",\")\n",
    "    i+=1"
   ]
  },
  {
   "cell_type": "markdown",
   "id": "27580e46",
   "metadata": {},
   "source": [
    "### 14) Print number in Reverse Order entered by the user"
   ]
  },
  {
   "cell_type": "code",
   "execution_count": 12,
   "id": "f7dd4cd3",
   "metadata": {},
   "outputs": [
    {
     "name": "stdout",
     "output_type": "stream",
     "text": [
      "Enter a number:5\n",
      "5\n",
      "4\n",
      "3\n",
      "2\n",
      "1\n"
     ]
    }
   ],
   "source": [
    "n=int(input(\"Enter a number:\"))\n",
    "while n>0 :\n",
    "    print(n)\n",
    "    n-=1    "
   ]
  },
  {
   "cell_type": "markdown",
   "id": "5f07cb1b",
   "metadata": {},
   "source": [
    "### 15) Print Reverse of a Number"
   ]
  },
  {
   "cell_type": "code",
   "execution_count": 13,
   "id": "8aa7ad80",
   "metadata": {},
   "outputs": [
    {
     "name": "stdout",
     "output_type": "stream",
     "text": [
      "Enter any number = 14658\n",
      "Reverse of the number is :  85641\n"
     ]
    }
   ],
   "source": [
    "n=int(input('Enter any number = '))\n",
    "temp = n\n",
    "rev=0\n",
    "while n>0:\n",
    "    rem=n%10\n",
    "    rev=rev*10+rem\n",
    "    n//=10\n",
    "print('Reverse of the number is : ',rev)"
   ]
  },
  {
   "cell_type": "markdown",
   "id": "c9c7e1be",
   "metadata": {},
   "source": [
    "### 16) Print sum of reverse of a number"
   ]
  },
  {
   "cell_type": "code",
   "execution_count": 14,
   "id": "0945f70d",
   "metadata": {},
   "outputs": [
    {
     "name": "stdout",
     "output_type": "stream",
     "text": [
      "Enter any number = 14658\n",
      "Reverse of the number is :  85641\n",
      "Sum of Reverse of number is :  24\n"
     ]
    }
   ],
   "source": [
    "n=int(input('Enter any number = '))\n",
    "temp=n\n",
    "rev=0\n",
    "sum1=0\n",
    "while n>0:\n",
    "    rem=n%10\n",
    "    rev=rev*10+rem\n",
    "    sum1+=rem\n",
    "    n//=10\n",
    "print('Reverse of the number is : ',rev)\n",
    "print('Sum of Reverse of number is : ',sum1)"
   ]
  },
  {
   "cell_type": "markdown",
   "id": "9283b363",
   "metadata": {},
   "source": [
    "### 17) How many number of digits in the given number"
   ]
  },
  {
   "cell_type": "code",
   "execution_count": 13,
   "id": "c34463b1",
   "metadata": {},
   "outputs": [
    {
     "name": "stdout",
     "output_type": "stream",
     "text": [
      "Enter any number 658\n",
      "Total number of digits in the given number is  3\n"
     ]
    }
   ],
   "source": [
    "n= int(input(\"Enter any number \"))\n",
    "c=0\n",
    "while n>0 :\n",
    "    n=n//10\n",
    "    c=c+1\n",
    "print(\"Total number of digits in the given number is \",c)"
   ]
  },
  {
   "cell_type": "markdown",
   "id": "de7ae519",
   "metadata": {},
   "source": [
    "### 18) Program to check whether a number is prime or not"
   ]
  },
  {
   "cell_type": "code",
   "execution_count": 16,
   "id": "1b8f67a3",
   "metadata": {},
   "outputs": [
    {
     "name": "stdout",
     "output_type": "stream",
     "text": [
      "enter any number : 5\n",
      "5 is prime number\n"
     ]
    }
   ],
   "source": [
    "n = int(input('enter any number : '))\n",
    "i = 1\n",
    "count = 0\n",
    "for i in range(1,n+1):\n",
    "    if n%i==0:\n",
    "        count = count+1\n",
    "    i+=1\n",
    "if count==2:\n",
    "    print(n, \"is prime number\")\n",
    "else:\n",
    "    print(n, \"is not a prime number\")"
   ]
  },
  {
   "cell_type": "markdown",
   "id": "f6a567c4",
   "metadata": {},
   "source": [
    "### 19) Program to check whether a number is prime or not using while loop"
   ]
  },
  {
   "cell_type": "code",
   "execution_count": 17,
   "id": "b3165967",
   "metadata": {},
   "outputs": [
    {
     "name": "stdout",
     "output_type": "stream",
     "text": [
      "Enter any number = 29\n",
      "29 is a prime number\n"
     ]
    }
   ],
   "source": [
    "n=int(input('Enter any number = '))\n",
    "i=1\n",
    "count=0\n",
    "while i<=n:\n",
    "    if n%i==0:\n",
    "        count+=1\n",
    "    i+=1\n",
    "if count==2:\n",
    "    print(n,'is a prime number')\n",
    "else:\n",
    "    print(n,'is not a prime number')"
   ]
  },
  {
   "cell_type": "markdown",
   "id": "2db7b307",
   "metadata": {},
   "source": [
    "### 20) Program to print the cube of all the numbers from 1 to n"
   ]
  },
  {
   "cell_type": "code",
   "execution_count": 18,
   "id": "a5834bc4",
   "metadata": {},
   "outputs": [
    {
     "name": "stdout",
     "output_type": "stream",
     "text": [
      "Enter a num = 5\n",
      "Cube of 1 \t:  1\n",
      "Cube of 2 \t:  8\n",
      "Cube of 3 \t:  27\n",
      "Cube of 4 \t:  64\n",
      "Cube of 5 \t:  125\n"
     ]
    }
   ],
   "source": [
    "n=int(input('Enter a num = '))\n",
    "for i in range(n):\n",
    "    i+=1\n",
    "    print('Cube of',i,'\\t: ',i**3)"
   ]
  },
  {
   "cell_type": "markdown",
   "id": "7c519f55",
   "metadata": {},
   "source": [
    "### 21) Program to print all prime numbers from 1-100"
   ]
  },
  {
   "cell_type": "code",
   "execution_count": 19,
   "id": "b835194f",
   "metadata": {},
   "outputs": [
    {
     "name": "stdout",
     "output_type": "stream",
     "text": [
      "2 , 3 , 5 , 7 , 11 , 13 , 17 , 19 , 23 , 29 , 31 , 37 , 41 , 43 , 47 , 53 , 59 , 61 , 67 , 71 , 73 , 79 , 83 , 89 , 97 , "
     ]
    }
   ],
   "source": [
    "n = 1\n",
    "while(n <= 100):\n",
    "    count = 0\n",
    "    i = 2\n",
    "    while(i <= n//2):\n",
    "        if(n % i == 0):\n",
    "            count+=1\n",
    "            break\n",
    "        i+=1\n",
    "    if (count == 0 and n != 1):\n",
    "        print(n, end = ' , ')\n",
    "    n+=1"
   ]
  },
  {
   "cell_type": "markdown",
   "id": "7b11581c",
   "metadata": {},
   "source": [
    "### 22) Program to print fibonacci series"
   ]
  },
  {
   "cell_type": "code",
   "execution_count": 21,
   "id": "2f07decb",
   "metadata": {},
   "outputs": [
    {
     "name": "stdout",
     "output_type": "stream",
     "text": [
      "Enter Nth number = 10\n",
      "0 , 1 , 1 , 2 , 3 , 5 , 8 , 13 , 21 , 34 , "
     ]
    }
   ],
   "source": [
    "n=int(input('Enter Nth number = '))\n",
    "n1,n2=0,1\n",
    "count=0\n",
    "while count<n:\n",
    "    print(n1,end=\" , \")\n",
    "    fc=n1+n2\n",
    "    n1=n2\n",
    "    n2=fc\n",
    "    count+=1"
   ]
  },
  {
   "cell_type": "markdown",
   "id": "67c43441",
   "metadata": {},
   "source": [
    "### 23) Program to check whether the entered number is an armstrong number or not"
   ]
  },
  {
   "cell_type": "code",
   "execution_count": 23,
   "id": "723f818e",
   "metadata": {},
   "outputs": [
    {
     "name": "stdout",
     "output_type": "stream",
     "text": [
      "Enter any 3 digit number = 153\n",
      "Entered number is an Armstrong number\n"
     ]
    }
   ],
   "source": [
    "n=int(input('Enter any 3 digit number = '))\n",
    "count=n\n",
    "sum=0\n",
    "while count!=0:\n",
    "    rem=count%10\n",
    "    sum+= rem**3\n",
    "    count//=10\n",
    "if sum == n:\n",
    "    print('Entered number is an Armstrong number')\n",
    "else :\n",
    "    print('Entered number is not an Armstrong number')"
   ]
  },
  {
   "cell_type": "markdown",
   "id": "e6007b33",
   "metadata": {},
   "source": [
    "### 24) Program to check whether a number is Strong or not"
   ]
  },
  {
   "cell_type": "code",
   "execution_count": 26,
   "id": "b2d7a6b2",
   "metadata": {},
   "outputs": [
    {
     "name": "stdout",
     "output_type": "stream",
     "text": [
      "Enter a num = 145\n",
      "Entered number is Strong\n"
     ]
    }
   ],
   "source": [
    "n=int(input('Enter a num = '))\n",
    "temp=n\n",
    "sum1=0\n",
    "while n:\n",
    "    i=1\n",
    "    f=1\n",
    "    rem=n%10\n",
    "    while i<=rem:\n",
    "        f*=i\n",
    "        i+=1\n",
    "    sum1+=f\n",
    "    n//=10\n",
    "if sum1==temp:\n",
    "    print('Entered number is Strong')\n",
    "else :\n",
    "    print('Entered number is not strong')"
   ]
  }
 ],
 "metadata": {
  "kernelspec": {
   "display_name": "Python 3 (ipykernel)",
   "language": "python",
   "name": "python3"
  },
  "language_info": {
   "codemirror_mode": {
    "name": "ipython",
    "version": 3
   },
   "file_extension": ".py",
   "mimetype": "text/x-python",
   "name": "python",
   "nbconvert_exporter": "python",
   "pygments_lexer": "ipython3",
   "version": "3.9.12"
  }
 },
 "nbformat": 4,
 "nbformat_minor": 5
}
