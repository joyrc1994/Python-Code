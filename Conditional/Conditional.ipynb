{
 "cells": [
  {
   "cell_type": "markdown",
   "id": "e673cbfb",
   "metadata": {},
   "source": [
    "### See Your Grade"
   ]
  },
  {
   "cell_type": "code",
   "execution_count": 26,
   "id": "f4bf9b97",
   "metadata": {},
   "outputs": [
    {
     "name": "stdout",
     "output_type": "stream",
     "text": [
      "Enter the Obtained Marks 81\n",
      "your Grade is A\n"
     ]
    }
   ],
   "source": [
    "marks=int(input(\"Enter the Obtained Marks \"))\n",
    "if marks>=80 :\n",
    "    print(\"your Grade is A\")\n",
    "elif marks>=60 and marks<80 :\n",
    "    print(\"your Grade is B\")\n",
    "elif marks>=50 and marks<60 :\n",
    "    print(\"your Grade is C\")\n",
    "elif marks>=45 and marks<50 :\n",
    "    print(\"your Grade is D\")\n",
    "elif marks>=25 and marks<45 :\n",
    "    print(\"your Grade is E\")\n",
    "else :\n",
    "    print(\"your Grade is F\")"
   ]
  },
  {
   "cell_type": "markdown",
   "id": "3d8b2572",
   "metadata": {},
   "source": [
    "### Salary with Bonus"
   ]
  },
  {
   "cell_type": "code",
   "execution_count": 38,
   "id": "3011cd82",
   "metadata": {},
   "outputs": [
    {
     "name": "stdout",
     "output_type": "stream",
     "text": [
      "Enter Your salary : 40000\n",
      "Enter Your Service Period : 6\n",
      "Your Salary with 5% Bonus is : 42000\n"
     ]
    }
   ],
   "source": [
    "salary=int(input(\"Enter Your salary : \"))\n",
    "period=int(input(\"Enter Your Service Period : \"))\n",
    "if period>=5 :\n",
    "    salary=((salary*5)//100)+salary\n",
    "    print(\"Your Salary with 5% Bonus is :\",salary)\n",
    "else :\n",
    "    print(\"You are not Eligible for Bonus\")"
   ]
  },
  {
   "cell_type": "markdown",
   "id": "a1e46d68",
   "metadata": {},
   "source": [
    "### Square or Not"
   ]
  },
  {
   "cell_type": "code",
   "execution_count": 40,
   "id": "6b06ddf7",
   "metadata": {},
   "outputs": [
    {
     "name": "stdout",
     "output_type": "stream",
     "text": [
      "Enter the Lenth of a Rectangle : 8\n",
      "Enter the Width of a Rectangle : 8\n",
      "It is a Square\n"
     ]
    }
   ],
   "source": [
    "length=int(input(\"Enter the Lenth of a Rectangle : \"))\n",
    "width=int(input(\"Enter the Width of a Rectangle : \"))\n",
    "if length==width :\n",
    "    print(\"It is a Square\")\n",
    "else :\n",
    "    print(\"It is Not a Square\")"
   ]
  },
  {
   "cell_type": "markdown",
   "id": "f060b8f9",
   "metadata": {},
   "source": [
    "### Who is the Oldest and Youngest"
   ]
  },
  {
   "cell_type": "code",
   "execution_count": 44,
   "id": "d8eda909",
   "metadata": {},
   "outputs": [
    {
     "name": "stdout",
     "output_type": "stream",
     "text": [
      "Enter the age of 1st Person : 24\n",
      "Enter the age of 2nd Person : 32\n",
      "Enter the age of 3rd Person : 36\n",
      "3rd Person is the Oldest\n",
      "1st Person is the Youngest\n"
     ]
    }
   ],
   "source": [
    "x=int(input(\"Enter the age of 1st Person : \"))\n",
    "y=int(input(\"Enter the age of 2nd Person : \"))\n",
    "z=int(input(\"Enter the age of 3rd Person : \"))\n",
    "if x>y and x>z :\n",
    "    print(\"1st Person is the Oldest\")\n",
    "elif y>x and y>z :\n",
    "    print(\"2nd Person is the Oldest\")\n",
    "elif z>x and z>y :\n",
    "    print(\"3rd Person is the Oldest\")\n",
    "if x<y and x<z :\n",
    "    print(\"1st Person is the Youngest\")\n",
    "elif y<x and y<z :\n",
    "    print(\"2nd Person is the Youngest\")\n",
    "elif z<x and z<y :\n",
    "    print(\"3rd Person is the Youngest\")\n"
   ]
  },
  {
   "cell_type": "markdown",
   "id": "c717a034",
   "metadata": {},
   "source": [
    "### Celsius to Fahrenheit"
   ]
  },
  {
   "cell_type": "code",
   "execution_count": 58,
   "id": "2f693df9",
   "metadata": {},
   "outputs": [
    {
     "name": "stdout",
     "output_type": "stream",
     "text": [
      "Enter the Temperature in Celsius is : 32\n",
      "The Temperature in Fahrenheit is :  89 °F\n"
     ]
    }
   ],
   "source": [
    "c=int(input(\"Enter the Temperature in Celsius is : \"))\n",
    "f=int((c*(9/5))+32)\n",
    "print(\"The Temperature in Fahrenheit is : \",f,\"°F\")"
   ]
  },
  {
   "cell_type": "code",
   "execution_count": null,
   "id": "138211bb",
   "metadata": {},
   "outputs": [],
   "source": []
  }
 ],
 "metadata": {
  "kernelspec": {
   "display_name": "Python 3 (ipykernel)",
   "language": "python",
   "name": "python3"
  },
  "language_info": {
   "codemirror_mode": {
    "name": "ipython",
    "version": 3
   },
   "file_extension": ".py",
   "mimetype": "text/x-python",
   "name": "python",
   "nbconvert_exporter": "python",
   "pygments_lexer": "ipython3",
   "version": "3.9.12"
  }
 },
 "nbformat": 4,
 "nbformat_minor": 5
}
